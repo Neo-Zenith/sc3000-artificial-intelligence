{
 "cells": [
  {
   "cell_type": "code",
   "execution_count": 19,
   "metadata": {},
   "outputs": [],
   "source": [
    "import gym\n",
    "import time"
   ]
  },
  {
   "cell_type": "code",
   "execution_count": 20,
   "metadata": {},
   "outputs": [],
   "source": [
    "env = gym.make('CartPole-v1')"
   ]
  },
  {
   "cell_type": "code",
   "execution_count": 21,
   "metadata": {},
   "outputs": [],
   "source": [
    "policy = lambda obs: 0\n",
    "\n",
    "for _ in range(3):\n",
    "    obs = env.reset()\n",
    "    for _ in range(80):\n",
    "        actions = policy(obs)\n",
    "        obs, reward, done, info, _ = env.step(actions)\n",
    "        env.render()\n",
    "        time.sleep(0.1)\n",
    "\n",
    "env.close()"
   ]
  }
 ],
 "metadata": {
  "kernelspec": {
   "display_name": "venv",
   "language": "python",
   "name": "python3"
  },
  "language_info": {
   "codemirror_mode": {
    "name": "ipython",
    "version": 3
   },
   "file_extension": ".py",
   "mimetype": "text/x-python",
   "name": "python",
   "nbconvert_exporter": "python",
   "pygments_lexer": "ipython3",
   "version": "3.11.1"
  },
  "orig_nbformat": 4,
  "vscode": {
   "interpreter": {
    "hash": "4f259383b37fabc0404bde83e2962c41ec5aa8be93bdc9eb114bea6a32ebc4ef"
   }
  }
 },
 "nbformat": 4,
 "nbformat_minor": 2
}
