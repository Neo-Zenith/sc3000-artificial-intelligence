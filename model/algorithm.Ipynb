{
 "cells": [
  {
   "attachments": {},
   "cell_type": "markdown",
   "metadata": {},
   "source": [
    "## Project Description\n"
   ]
  },
  {
   "attachments": {},
   "cell_type": "markdown",
   "metadata": {},
   "source": [
    "A pole is attached by an un-actuated joint to a cart, which moves along a frictionless track. The pendulum is placed upright on the cart and the goal is to balance the pole by applying forces in the left and right direction on the cart. In this project, we will develop a Reinforcement Learning (RL) agent. The trained agent makes the decision to push the cart to the left or right based on the cart position, velocity, and the pole angle, angular velocity."
   ]
  },
  {
   "attachments": {},
   "cell_type": "markdown",
   "metadata": {},
   "source": [
    "### Action Space"
   ]
  },
  {
   "attachments": {},
   "cell_type": "markdown",
   "metadata": {},
   "source": [
    "The action is an *ndarray* with shape (1,) which can take values {0, 1} indicating pushing the cart to the left or right, respectively. Note that the velocity that is reduced or increased by the applied force is not fixed and it depends on the angle the pole is pointing. The center of gravity of the pole varies the amount of energy needed to move the cart underneath it."
   ]
  },
  {
   "attachments": {},
   "cell_type": "markdown",
   "metadata": {},
   "source": [
    "### State Space"
   ]
  },
  {
   "attachments": {},
   "cell_type": "markdown",
   "metadata": {},
   "source": [
    "We define *observation* as a state (they are used interchangeably here). The observation is an *ndarray* with shape (4,) with the values corresponding to the following positions and velocities:\n",
    "\n",
    "| **Observation[n]** | **Observation**       | **Min**             | **Max**           |\n",
    "| ------- | --------------------- | ------------------- | ----------------- |\n",
    "| **0**   | Cart Position         | \\-4.8               | 4.8               |\n",
    "| **1**   | Cart Velocity         | \\-Inf               | Inf               |\n",
    "| **2**   | Pole Angle            | ~ -0.418 rad (-24°) | ~ 0.418 rad (24°) |\n",
    "| **3**   | Pole Angular Velocity | \\-Inf               | Inf               |"
   ]
  },
  {
   "attachments": {},
   "cell_type": "markdown",
   "metadata": {},
   "source": [
    "## Conditions"
   ]
  },
  {
   "attachments": {},
   "cell_type": "markdown",
   "metadata": {},
   "source": [
    "The challenge is to balance the pole for **500 states per episode**. \n",
    "\n",
    "The pole is said to be balanced if:\n",
    "* Pole Angle is at most ±12°\n",
    "* Cart Position is at most ±2.4 (center of the cart reaches the edge of the display)\n",
    "\n",
    "Violation to any of the above two conditions defines an unbalanced pole."
   ]
  },
  {
   "attachments": {},
   "cell_type": "markdown",
   "metadata": {},
   "source": [
    "## Solution"
   ]
  },
  {
   "attachments": {},
   "cell_type": "markdown",
   "metadata": {},
   "source": [
    "We have considered two options for our reinforcement learning algorithm, DQN(**Q-learning**) and PPO(**Proximal Policy Optimization**)\n",
    "\n",
    "**DQN**\n",
    "* Uses experience replay to learn from all past policies\n",
    "* Freezes target Q-network to avoid the moving target issue\n",
    "* Clip rewards or normalize network adaptive to sensible range\n",
    "\n",
    "![image](https://user-images.githubusercontent.com/87069189/221127139-9876d36c-d7dc-4224-817e-9e4f6ac40a82.png)\n",
    "\n",
    "**PPO**\n",
    "* We maintain two networkes, one with the current policy that we want to refine and second that we use to collect samples\n",
    "* Clip the objective and calculate the ratio between the new policy and old policy\n",
    "\n",
    "![image](https://user-images.githubusercontent.com/87069189/221127443-c2cacde4-9e83-44cc-8ac3-ee8a1fdb3687.png)\n",
    "\n",
    "After considering various factors, we will be using **Proximal Policy Optimization (PPO)**. \n",
    "\n",
    "\n"
   ]
  },
  {
   "attachments": {},
   "cell_type": "markdown",
   "metadata": {},
   "source": [
    "### Rationale"
   ]
  },
  {
   "attachments": {},
   "cell_type": "markdown",
   "metadata": {},
   "source": [
    "* PPO is generally **more sample-efficient** than Q-learning. It can learn the optimal policy more quickly using fewer samples from the environment. This is useful for this cartpole balancing problem, where each episode is relatively short and time-consuming.\n",
    "\n",
    "* PPO **can handle continuous state spaces**, whereas Q-learning requires discretization of the state space. Since the cartpole balancing problem has a continuous state space, this could be an advantage for PPO.\n",
    "\n",
    "* PPO is a **policy optimization algorithm**, which means that it directly optimizes the policy rather than estimating the optimal action-value function. This can be **advantageous when the optimal policy is complex** or difficult to represent in a tabular form, as is the case in many RL problems."
   ]
  },
  {
   "attachments": {},
   "cell_type": "markdown",
   "metadata": {},
   "source": [
    "## Import Dependencies"
   ]
  },
  {
   "attachments": {},
   "cell_type": "markdown",
   "metadata": {},
   "source": [
    "Stable Baselines is a set of improved implementations of Reinforcement Learning (RL) algorithms based on OpenAI Baselines. We will be importing the PPO algorithm from here.\n",
    "\n",
    "* Reference & more details: https://stable-baselines3.readthedocs.io/en/master/modules/ppo.html\n",
    "* Implementation code of PPO in stable-baseline3: https://github.com/DLR-RM/stable-baselines3/tree/master/stable_baselines3/ppo"
   ]
  },
  {
   "cell_type": "code",
   "execution_count": null,
   "metadata": {},
   "outputs": [],
   "source": [
    "import gym\n",
    "from gym.wrappers import RecordVideo\n",
    "from stable_baselines3 import PPO\n",
    "from stable_baselines3.common.vec_env import DummyVecEnv\n",
    "from stable_baselines3.common.evaluation import evaluate_policy\n",
    "import matplotlib.pyplot as plt\n",
    "import torch\n",
    "import glob\n",
    "from IPython.display import HTML\n",
    "from IPython import display as ipythondisplay\n",
    "import io\n",
    "import base64"
   ]
  },
  {
   "attachments": {},
   "cell_type": "markdown",
   "metadata": {},
   "source": [
    "## Environment Testing"
   ]
  },
  {
   "cell_type": "code",
   "execution_count": null,
   "metadata": {},
   "outputs": [],
   "source": [
    "env_name = 'CartPole-v1'\n",
    "env = gym.make(env_name)"
   ]
  },
  {
   "attachments": {},
   "cell_type": "markdown",
   "metadata": {},
   "source": [
    "## Model Training"
   ]
  },
  {
   "attachments": {},
   "cell_type": "markdown",
   "metadata": {},
   "source": [
    "Check if CUDA device is available."
   ]
  },
  {
   "cell_type": "code",
   "execution_count": null,
   "metadata": {},
   "outputs": [
    {
     "name": "stdout",
     "output_type": "stream",
     "text": [
      "11.7\n"
     ]
    }
   ],
   "source": [
    "torch.cuda.is_available()\n",
    "print(torch.version.cuda)"
   ]
  },
  {
   "attachments": {},
   "cell_type": "markdown",
   "metadata": {},
   "source": [
    "## Vectorized Environment"
   ]
  },
  {
   "attachments": {},
   "cell_type": "markdown",
   "metadata": {},
   "source": [
    "Vectorized Environments are a method for stacking multiple independent environments into a single environment.\n",
    "\n",
    "This provides two benefits:\n",
    "\n",
    "* Agent experience can be collected more quickly\n",
    "* The experience will contain a more diverse range of states, it usually improves exploration\n",
    "\n",
    "Stable-Baselines provides two types of Vectorized Environment:\n",
    "\n",
    "* SubprocVecEnv which run each environment in a separate process\n",
    "* DummyVecEnv which run all environment on the same process\n",
    "In practice, DummyVecEnv is usually faster than SubprocVecEnv because of communication delays that subprocesses have."
   ]
  },
  {
   "cell_type": "code",
   "execution_count": null,
   "metadata": {},
   "outputs": [
    {
     "name": "stdout",
     "output_type": "stream",
     "text": [
      "Using cuda device\n"
     ]
    }
   ],
   "source": [
    "env = gym.make(env_name)\n",
    "env = DummyVecEnv([lambda: env])\n",
    "\n",
    "model = PPO('MlpPolicy', env, verbose=1, device=\"cuda\") # run this if you have an nVidia GPU installed\n",
    "# model = PPO('MlpPolicy', env, verbose=1, device=\"auto\")   # otherwise run this instead"
   ]
  },
  {
   "attachments": {},
   "cell_type": "markdown",
   "metadata": {},
   "source": [
    "## Training the model"
   ]
  },
  {
   "attachments": {},
   "cell_type": "markdown",
   "metadata": {},
   "source": [
    "Begin training the model using a total timestep of 10000 (i.e., 10000 actions)\n",
    "\n",
    "* total_timesteps – (int) The total number of samples to train on\n",
    "\n",
    "* Note: total_timesteps is the number of steps in total the agent will do for any environment. The total_timesteps can be across several episodes, meaning that this value is not bound to some maximum"
   ]
  },
  {
   "cell_type": "code",
   "execution_count": 5,
   "metadata": {},
   "outputs": [
    {
     "data": {
      "application/vnd.jupyter.widget-view+json": {
       "model_id": "79d342f863b244f6956ea14684eaddcd",
       "version_major": 2,
       "version_minor": 0
      },
      "text/plain": [
       "Output()"
      ]
     },
     "metadata": {},
     "output_type": "display_data"
    },
    {
     "name": "stdout",
     "output_type": "stream",
     "text": [
      "-----------------------------\n",
      "| time/              |      |\n",
      "|    fps             | 346  |\n",
      "|    iterations      | 1    |\n",
      "|    time_elapsed    | 5    |\n",
      "|    total_timesteps | 2048 |\n",
      "-----------------------------\n"
     ]
    },
    {
     "name": "stdout",
     "output_type": "stream",
     "text": [
      "-----------------------------------------\n",
      "| time/                   |             |\n",
      "|    fps                  | 334         |\n",
      "|    iterations           | 2           |\n",
      "|    time_elapsed         | 12          |\n",
      "|    total_timesteps      | 4096        |\n",
      "| train/                  |             |\n",
      "|    approx_kl            | 0.008590811 |\n",
      "|    clip_fraction        | 0.104       |\n",
      "|    clip_range           | 0.2         |\n",
      "|    entropy_loss         | -0.686      |\n",
      "|    explained_variance   | 0.00359     |\n",
      "|    learning_rate        | 0.0003      |\n",
      "|    loss                 | 7.1         |\n",
      "|    n_updates            | 10          |\n",
      "|    policy_gradient_loss | -0.0164     |\n",
      "|    value_loss           | 52.7        |\n",
      "-----------------------------------------\n"
     ]
    },
    {
     "name": "stdout",
     "output_type": "stream",
     "text": [
      "-----------------------------------------\n",
      "| time/                   |             |\n",
      "|    fps                  | 335         |\n",
      "|    iterations           | 3           |\n",
      "|    time_elapsed         | 18          |\n",
      "|    total_timesteps      | 6144        |\n",
      "| train/                  |             |\n",
      "|    approx_kl            | 0.010366876 |\n",
      "|    clip_fraction        | 0.0716      |\n",
      "|    clip_range           | 0.2         |\n",
      "|    entropy_loss         | -0.665      |\n",
      "|    explained_variance   | 0.0771      |\n",
      "|    learning_rate        | 0.0003      |\n",
      "|    loss                 | 10.1        |\n",
      "|    n_updates            | 20          |\n",
      "|    policy_gradient_loss | -0.0206     |\n",
      "|    value_loss           | 34.5        |\n",
      "-----------------------------------------\n"
     ]
    },
    {
     "name": "stdout",
     "output_type": "stream",
     "text": [
      "-----------------------------------------\n",
      "| time/                   |             |\n",
      "|    fps                  | 338         |\n",
      "|    iterations           | 4           |\n",
      "|    time_elapsed         | 24          |\n",
      "|    total_timesteps      | 8192        |\n",
      "| train/                  |             |\n",
      "|    approx_kl            | 0.008022514 |\n",
      "|    clip_fraction        | 0.0778      |\n",
      "|    clip_range           | 0.2         |\n",
      "|    entropy_loss         | -0.635      |\n",
      "|    explained_variance   | 0.186       |\n",
      "|    learning_rate        | 0.0003      |\n",
      "|    loss                 | 15.5        |\n",
      "|    n_updates            | 30          |\n",
      "|    policy_gradient_loss | -0.0172     |\n",
      "|    value_loss           | 60.7        |\n",
      "-----------------------------------------\n"
     ]
    },
    {
     "name": "stdout",
     "output_type": "stream",
     "text": [
      "------------------------------------------\n",
      "| time/                   |              |\n",
      "|    fps                  | 333          |\n",
      "|    iterations           | 5            |\n",
      "|    time_elapsed         | 30           |\n",
      "|    total_timesteps      | 10240        |\n",
      "| train/                  |              |\n",
      "|    approx_kl            | 0.0073952246 |\n",
      "|    clip_fraction        | 0.0621       |\n",
      "|    clip_range           | 0.2          |\n",
      "|    entropy_loss         | -0.61        |\n",
      "|    explained_variance   | 0.203        |\n",
      "|    learning_rate        | 0.0003       |\n",
      "|    loss                 | 33.5         |\n",
      "|    n_updates            | 40           |\n",
      "|    policy_gradient_loss | -0.0147      |\n",
      "|    value_loss           | 71           |\n",
      "------------------------------------------\n"
     ]
    },
    {
     "data": {
      "text/html": [
       "<pre style=\"white-space:pre;overflow-x:auto;line-height:normal;font-family:Menlo,'DejaVu Sans Mono',consolas,'Courier New',monospace\"></pre>\n"
      ],
      "text/plain": []
     },
     "metadata": {},
     "output_type": "display_data"
    },
    {
     "data": {
      "text/html": [
       "<pre style=\"white-space:pre;overflow-x:auto;line-height:normal;font-family:Menlo,'DejaVu Sans Mono',consolas,'Courier New',monospace\">\n",
       "</pre>\n"
      ],
      "text/plain": [
       "\n"
      ]
     },
     "metadata": {},
     "output_type": "display_data"
    },
    {
     "data": {
      "text/plain": [
       "<stable_baselines3.ppo.ppo.PPO at 0x2cdf078c9e8>"
      ]
     },
     "execution_count": 5,
     "metadata": {},
     "output_type": "execute_result"
    }
   ],
   "source": [
    "# total_timesteps is the number of env.steps(action) being run during training\n",
    "model.learn(total_timesteps=10000, progress_bar=True)"
   ]
  },
  {
   "attachments": {},
   "cell_type": "markdown",
   "metadata": {},
   "source": [
    "## Task 1 (Model Testing)"
   ]
  },
  {
   "cell_type": "code",
   "execution_count": 6,
   "metadata": {},
   "outputs": [
    {
     "name": "stdout",
     "output_type": "stream",
     "text": [
      "Observation space is:  [[-0.02523366 -0.02063061  0.02495755  0.01651973]]\n",
      "Action taken is:  [0]\n"
     ]
    }
   ],
   "source": [
    "observation = env.reset()\n",
    "action, _ = model.predict(observation)\n",
    "print(\"Observation space is: \", observation)\n",
    "print(\"Action taken is: \", action)"
   ]
  },
  {
   "attachments": {},
   "cell_type": "markdown",
   "metadata": {},
   "source": [
    "## Task 2 (Average Score)"
   ]
  },
  {
   "attachments": {},
   "cell_type": "markdown",
   "metadata": {},
   "source": [
    "* We ran the trained agent for 100 episodes, and we displayed the score that the agent received for each episode\n",
    "\n",
    "* Then, we calculated the average score of that the agent received for the 100 episodes"
   ]
  },
  {
   "cell_type": "code",
   "execution_count": 7,
   "metadata": {},
   "outputs": [
    {
     "name": "stdout",
     "output_type": "stream",
     "text": [
      "Episode: 1 ;   Score: [500.]\n",
      "Episode: 2 ;   Score: [500.]\n",
      "Episode: 3 ;   Score: [31.]\n",
      "Episode: 4 ;   Score: [500.]\n",
      "Episode: 5 ;   Score: [500.]\n",
      "Episode: 6 ;   Score: [500.]\n",
      "Episode: 7 ;   Score: [500.]\n",
      "Episode: 8 ;   Score: [500.]\n",
      "Episode: 9 ;   Score: [500.]\n",
      "Episode: 10 ;   Score: [411.]\n",
      "Episode: 11 ;   Score: [500.]\n",
      "Episode: 12 ;   Score: [500.]\n",
      "Episode: 13 ;   Score: [500.]\n",
      "Episode: 14 ;   Score: [500.]\n",
      "Episode: 15 ;   Score: [500.]\n",
      "Episode: 16 ;   Score: [500.]\n",
      "Episode: 17 ;   Score: [500.]\n",
      "Episode: 18 ;   Score: [500.]\n",
      "Episode: 19 ;   Score: [500.]\n",
      "Episode: 20 ;   Score: [500.]\n",
      "Episode: 21 ;   Score: [500.]\n",
      "Episode: 22 ;   Score: [500.]\n",
      "Episode: 23 ;   Score: [500.]\n",
      "Episode: 24 ;   Score: [500.]\n",
      "Episode: 25 ;   Score: [500.]\n",
      "Episode: 26 ;   Score: [500.]\n",
      "Episode: 27 ;   Score: [500.]\n",
      "Episode: 28 ;   Score: [128.]\n",
      "Episode: 29 ;   Score: [500.]\n",
      "Episode: 30 ;   Score: [500.]\n",
      "Episode: 31 ;   Score: [500.]\n",
      "Episode: 32 ;   Score: [155.]\n",
      "Episode: 33 ;   Score: [500.]\n",
      "Episode: 34 ;   Score: [500.]\n",
      "Episode: 35 ;   Score: [500.]\n",
      "Episode: 36 ;   Score: [500.]\n",
      "Episode: 37 ;   Score: [500.]\n",
      "Episode: 38 ;   Score: [374.]\n",
      "Episode: 39 ;   Score: [396.]\n",
      "Episode: 40 ;   Score: [500.]\n",
      "Episode: 41 ;   Score: [500.]\n",
      "Episode: 42 ;   Score: [500.]\n",
      "Episode: 43 ;   Score: [500.]\n",
      "Episode: 44 ;   Score: [500.]\n",
      "Episode: 45 ;   Score: [500.]\n",
      "Episode: 46 ;   Score: [500.]\n",
      "Episode: 47 ;   Score: [500.]\n",
      "Episode: 48 ;   Score: [74.]\n",
      "Episode: 49 ;   Score: [500.]\n",
      "Episode: 50 ;   Score: [500.]\n",
      "Episode: 51 ;   Score: [500.]\n",
      "Episode: 52 ;   Score: [500.]\n",
      "Episode: 53 ;   Score: [500.]\n",
      "Episode: 54 ;   Score: [500.]\n",
      "Episode: 55 ;   Score: [500.]\n",
      "Episode: 56 ;   Score: [500.]\n",
      "Episode: 57 ;   Score: [500.]\n",
      "Episode: 58 ;   Score: [500.]\n",
      "Episode: 59 ;   Score: [500.]\n",
      "Episode: 60 ;   Score: [500.]\n",
      "Episode: 61 ;   Score: [500.]\n",
      "Episode: 62 ;   Score: [500.]\n",
      "Episode: 63 ;   Score: [500.]\n",
      "Episode: 64 ;   Score: [500.]\n",
      "Episode: 65 ;   Score: [500.]\n",
      "Episode: 66 ;   Score: [500.]\n",
      "Episode: 67 ;   Score: [500.]\n",
      "Episode: 68 ;   Score: [500.]\n",
      "Episode: 69 ;   Score: [500.]\n",
      "Episode: 70 ;   Score: [500.]\n",
      "Episode: 71 ;   Score: [500.]\n",
      "Episode: 72 ;   Score: [500.]\n",
      "Episode: 73 ;   Score: [500.]\n",
      "Episode: 74 ;   Score: [500.]\n",
      "Episode: 75 ;   Score: [500.]\n",
      "Episode: 76 ;   Score: [500.]\n",
      "Episode: 77 ;   Score: [500.]\n",
      "Episode: 78 ;   Score: [500.]\n",
      "Episode: 79 ;   Score: [500.]\n",
      "Episode: 80 ;   Score: [500.]\n",
      "Episode: 81 ;   Score: [500.]\n",
      "Episode: 82 ;   Score: [500.]\n",
      "Episode: 83 ;   Score: [500.]\n",
      "Episode: 84 ;   Score: [500.]\n",
      "Episode: 85 ;   Score: [500.]\n",
      "Episode: 86 ;   Score: [500.]\n",
      "Episode: 87 ;   Score: [500.]\n",
      "Episode: 88 ;   Score: [500.]\n",
      "Episode: 89 ;   Score: [500.]\n",
      "Episode: 90 ;   Score: [125.]\n",
      "Episode: 91 ;   Score: [500.]\n",
      "Episode: 92 ;   Score: [500.]\n",
      "Episode: 93 ;   Score: [500.]\n",
      "Episode: 94 ;   Score: [500.]\n",
      "Episode: 95 ;   Score: [500.]\n",
      "Episode: 96 ;   Score: [500.]\n",
      "Episode: 97 ;   Score: [500.]\n",
      "Episode: 98 ;   Score: [500.]\n",
      "Episode: 99 ;   Score: [500.]\n",
      "Average score is  [476.70706]\n"
     ]
    }
   ],
   "source": [
    "sum_episode_scores = []\n",
    "\n",
    "for episode in range(1, 100):    ## total 10 episodes\n",
    "    score = 0                   ## reward init\n",
    "    obs = env.reset()         ## observations\n",
    "    done = False                ## episode completes will make done True\n",
    "    state = 0\n",
    "\n",
    "    while True:\n",
    "        action = model.predict(obs)[0]\n",
    "        n_state, reward, done, info = env.step(action)      ## apply action \n",
    "        if (abs(n_state[0][0]) > 2.4 or abs(n_state[0][2]) > 0.209):\n",
    "            break\n",
    "        if state == 500:\n",
    "            break\n",
    "        obs = n_state\n",
    "        score += reward  \n",
    "        state += 1      \n",
    "\n",
    "    print('Episode:', episode, ';   Score:', score)\n",
    "    sum_episode_scores.append(score)\n",
    "\n",
    "\n",
    "print(\"Average score is \", sum(sum_episode_scores) / len(sum_episode_scores))\n",
    "\n",
    "env.close()"
   ]
  },
  {
   "attachments": {},
   "cell_type": "markdown",
   "metadata": {},
   "source": [
    "* We then plotted the score of each episode onto a graph and from the graph, we can see that our trained agent performs well on each of the 100 episodes, with only a few outliers."
   ]
  },
  {
   "cell_type": "code",
   "execution_count": 8,
   "metadata": {},
   "outputs": [
    {
     "data": {
      "image/png": "[encoded data removed]",
      "text/plain": [
       "<Figure size 640x480 with 1 Axes>"
      ]
     },
     "metadata": {},
     "output_type": "display_data"
    }
   ],
   "source": [
    "plt.plot(sum_episode_scores)\n",
    "plt.title(\"Cumulative reward for each episode\")\n",
    "plt.ylabel(\"Cumulative reward\")\n",
    "plt.xlabel(\"Episode\")\n",
    "plt.show()"
   ]
  },
  {
   "attachments": {},
   "cell_type": "markdown",
   "metadata": {},
   "source": [
    "## Task 3 (1 Episode)"
   ]
  },
  {
   "attachments": {},
   "cell_type": "markdown",
   "metadata": {},
   "source": [
    "* Task 3 requires us to render one of the episodes played by our PPO agent"
   ]
  },
  {
   "cell_type": "code",
   "execution_count": 9,
   "metadata": {},
   "outputs": [],
   "source": [
    "from IPython import display as ipythondisplay\n",
    "\n",
    "def show_video():\n",
    "    ipythondisplay.clear_output(wait=True)\n",
    "    mp4list = glob.glob('video/*.mp4')\n",
    "    if len(mp4list) > 0:\n",
    "        mp4 = mp4list[0]\n",
    "        video = io.open(mp4, 'r+b').read()\n",
    "        encoded = base64.b64encode(video)\n",
    "        ipythondisplay.display(HTML(data='''<video alt=\"test\" autoplay \n",
    "                     loop controls style=\"height: 400px;\">\n",
    "                     <source src=\"data:video/mp4;base64,{0}\" type=\"video/mp4\" />\n",
    "                     </video>'''.format(encoded.decode('ascii'))))\n",
    "    else: \n",
    "        print(\"Could not find video\")"
   ]
  },
  {
   "cell_type": "code",
   "execution_count": 12,
   "metadata": {},
   "outputs": [
    {
     "data": {
      "text/html": [
       "<video alt=\"test\" autoplay \n",
       "                     loop controls style=\"height: 400px;\">\n",
       "                     <source src=\"data:video/mp4;base64,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\" type=\"video/mp4\" />\n",
       "                     </video>"
      ],
      "text/plain": [
       "<IPython.core.display.HTML object>"
      ]
     },
     "metadata": {},
     "output_type": "display_data"
    }
   ],
   "source": [
    "env = RecordVideo(gym.make(\"CartPole-v1\"), \"./video\")\n",
    "observation = env.reset()\n",
    "total = 0\n",
    "while True:\n",
    "    state = 0\n",
    "    env.render()\n",
    "    action = model.predict(observation)[0]\n",
    "    n_state, reward, done, info = env.step( int(action))      ## apply action \n",
    "    if (abs(n_state[0]) > 2.4 or abs(n_state[2]) > 0.209):\n",
    "        break\n",
    "    if state == 500:\n",
    "        break\n",
    "    observation = n_state \n",
    "    total += reward\n",
    "    state += 1        \n",
    "\n",
    "env.close()\n",
    "show_video()"
   ]
  },
  {
   "cell_type": "code",
   "execution_count": 13,
   "metadata": {},
   "outputs": [
    {
     "name": "stdout",
     "output_type": "stream",
     "text": [
      "Episode reward is  206.0\n"
     ]
    }
   ],
   "source": [
    "print(\"Episode reward is \", total)"
   ]
  }
 ],
 "metadata": {
  "kernelspec": {
   "display_name": "Python 3",
   "language": "python",
   "name": "python3"
  },
  "language_info": {
   "codemirror_mode": {
    "name": "ipython",
    "version": 3
   },
   "file_extension": ".py",
   "mimetype": "text/x-python",
   "name": "python",
   "nbconvert_exporter": "python",
   "pygments_lexer": "ipython3",
   "version": "3.11.0"
  },
  "orig_nbformat": 4,
  "vscode": {
   "interpreter": {
    "hash": "c261aea317cc0286b3b3261fbba9abdec21eaa57589985bb7a274bf54d6cc0a7"
   }
  }
 },
 "nbformat": 4,
 "nbformat_minor": 2
}
