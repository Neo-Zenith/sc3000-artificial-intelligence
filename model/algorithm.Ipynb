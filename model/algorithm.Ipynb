{
 "cells": [
  {
   "attachments": {},
   "cell_type": "markdown",
   "metadata": {},
   "source": [
    "## Project Description"
   ]
  },
  {
   "attachments": {},
   "cell_type": "markdown",
   "metadata": {},
   "source": [
    "A pole is attached by an un-actuated joint to a cart, which moves along a frictionless track. The pendulum is placed upright on the cart and the goal is to balance the pole by applying forces in the left and right direction on the cart. In this project, we will develop a Reinforcement Learning (RL) agent. The trained agent makes the decision to push the cart to the left or right based on the cart position, velocity, and the pole angle, angular velocity."
   ]
  },
  {
   "attachments": {},
   "cell_type": "markdown",
   "metadata": {},
   "source": [
    "### Action Space"
   ]
  },
  {
   "attachments": {},
   "cell_type": "markdown",
   "metadata": {},
   "source": [
    "The action is an *ndarray* with shape (1,) which can take values {0, 1} indicating pushing the cart to the left or right, respectively. Note that the velocity that is reduced or increased by the applied force is not fixed and it depends on the angle the pole is pointing. The center of gravity of the pole varies the amount of energy needed to move the cart underneath it."
   ]
  },
  {
   "attachments": {},
   "cell_type": "markdown",
   "metadata": {},
   "source": [
    "### State Space"
   ]
  },
  {
   "attachments": {},
   "cell_type": "markdown",
   "metadata": {},
   "source": [
    "We define *observation* as a state (they are used interchangeably here). The observation is an *ndarray* with shape (4,) with the values corresponding to the following positions and velocities:\n",
    "\n",
    "| **Observation[n]** | **Observation**       | **Min**             | **Max**           |\n",
    "| ------- | --------------------- | ------------------- | ----------------- |\n",
    "| **0**   | Cart Position         | \\-4.8               | 4.8               |\n",
    "| **1**   | Cart Velocity         | \\-Inf               | Inf               |\n",
    "| **2**   | Pole Angle            | ~ -0.418 rad (-24°) | ~ 0.418 rad (24°) |\n",
    "| **3**   | Pole Angular Velocity | \\-Inf               | Inf               |"
   ]
  },
  {
   "attachments": {},
   "cell_type": "markdown",
   "metadata": {},
   "source": [
    "## Conditions"
   ]
  },
  {
   "attachments": {},
   "cell_type": "markdown",
   "metadata": {},
   "source": [
    "The challenge is to balance the pole for **500 states per episode**. \n",
    "\n",
    "The pole is said to be balanced if:\n",
    "* Pole Angle is at most ±12°\n",
    "* Cart Position is at most ±2.4 (center of the cart reaches the edge of the display)\n",
    "\n",
    "Violation to any of the above two conditions defines an unbalanced pole."
   ]
  },
  {
   "attachments": {},
   "cell_type": "markdown",
   "metadata": {},
   "source": [
    "## Solution"
   ]
  },
  {
   "attachments": {},
   "cell_type": "markdown",
   "metadata": {},
   "source": [
    "We will be using a model-free Reinforcement Learning algorithm called **Proximal Policy Optimization (PPO)**. "
   ]
  },
  {
   "attachments": {},
   "cell_type": "markdown",
   "metadata": {},
   "source": [
    "### Rationale"
   ]
  },
  {
   "attachments": {},
   "cell_type": "markdown",
   "metadata": {},
   "source": [
    "## Import Dependencies"
   ]
  },
  {
   "cell_type": "code",
   "execution_count": 1,
   "metadata": {},
   "outputs": [],
   "source": [
    "import gym\n",
    "from stable_baselines3 import PPO\n",
    "from stable_baselines3.common.vec_env import DummyVecEnv\n",
    "from stable_baselines3.common.evaluation import evaluate_policy\n",
    "import matplotlib.pyplot as plt\n",
    "import torch"
   ]
  },
  {
   "attachments": {},
   "cell_type": "markdown",
   "metadata": {},
   "source": [
    "## Environment Testing"
   ]
  },
  {
   "cell_type": "code",
   "execution_count": 2,
   "metadata": {},
   "outputs": [],
   "source": [
    "env_name = 'CartPole-v1'\n",
    "env = gym.make(env_name)"
   ]
  },
  {
   "attachments": {},
   "cell_type": "markdown",
   "metadata": {},
   "source": [
    "## Model Training"
   ]
  },
  {
   "attachments": {},
   "cell_type": "markdown",
   "metadata": {},
   "source": [
    "Check if CUDA device is available."
   ]
  },
  {
   "cell_type": "code",
   "execution_count": 3,
   "metadata": {},
   "outputs": [
    {
     "name": "stdout",
     "output_type": "stream",
     "text": [
      "11.7\n"
     ]
    }
   ],
   "source": [
    "torch.cuda.is_available()\n",
    "print(torch.version.cuda)"
   ]
  },
  {
   "cell_type": "code",
   "execution_count": 4,
   "metadata": {},
   "outputs": [
    {
     "name": "stdout",
     "output_type": "stream",
     "text": [
      "Using cuda device\n"
     ]
    }
   ],
   "source": [
    "env = gym.make(env_name)\n",
    "env = DummyVecEnv([lambda: env])\n",
    "\n",
    "model = PPO('MlpPolicy', env, verbose=1, device=\"cuda\") # run this if you have an nVidia GPU installed\n",
    "# model = PPO('MlpPolicy', env, verbose=1, device=\"auto\")   # otherwise run this instead"
   ]
  },
  {
   "cell_type": "code",
   "execution_count": 5,
   "metadata": {},
   "outputs": [
    {
     "data": {
      "application/vnd.jupyter.widget-view+json": {
       "model_id": "cbba0c4379314d9c9a054e1ad46849a3",
       "version_major": 2,
       "version_minor": 0
      },
      "text/plain": [
       "Output()"
      ]
     },
     "metadata": {},
     "output_type": "display_data"
    },
    {
     "name": "stdout",
     "output_type": "stream",
     "text": [
      "-----------------------------\n",
      "| time/              |      |\n",
      "|    fps             | 328  |\n",
      "|    iterations      | 1    |\n",
      "|    time_elapsed    | 6    |\n",
      "|    total_timesteps | 2048 |\n",
      "-----------------------------\n"
     ]
    },
    {
     "name": "stdout",
     "output_type": "stream",
     "text": [
      "-----------------------------------------\n",
      "| time/                   |             |\n",
      "|    fps                  | 327         |\n",
      "|    iterations           | 2           |\n",
      "|    time_elapsed         | 12          |\n",
      "|    total_timesteps      | 4096        |\n",
      "| train/                  |             |\n",
      "|    approx_kl            | 0.008398731 |\n",
      "|    clip_fraction        | 0.1         |\n",
      "|    clip_range           | 0.2         |\n",
      "|    entropy_loss         | -0.686      |\n",
      "|    explained_variance   | -0.000718   |\n",
      "|    learning_rate        | 0.0003      |\n",
      "|    loss                 | 7.94        |\n",
      "|    n_updates            | 10          |\n",
      "|    policy_gradient_loss | -0.0141     |\n",
      "|    value_loss           | 54.7        |\n",
      "-----------------------------------------\n"
     ]
    },
    {
     "name": "stdout",
     "output_type": "stream",
     "text": [
      "-----------------------------------------\n",
      "| time/                   |             |\n",
      "|    fps                  | 325         |\n",
      "|    iterations           | 3           |\n",
      "|    time_elapsed         | 18          |\n",
      "|    total_timesteps      | 6144        |\n",
      "| train/                  |             |\n",
      "|    approx_kl            | 0.010425243 |\n",
      "|    clip_fraction        | 0.092       |\n",
      "|    clip_range           | 0.2         |\n",
      "|    entropy_loss         | -0.666      |\n",
      "|    explained_variance   | 0.0915      |\n",
      "|    learning_rate        | 0.0003      |\n",
      "|    loss                 | 10.7        |\n",
      "|    n_updates            | 20          |\n",
      "|    policy_gradient_loss | -0.0216     |\n",
      "|    value_loss           | 33.4        |\n",
      "-----------------------------------------\n"
     ]
    },
    {
     "name": "stdout",
     "output_type": "stream",
     "text": [
      "-----------------------------------------\n",
      "| time/                   |             |\n",
      "|    fps                  | 321         |\n",
      "|    iterations           | 4           |\n",
      "|    time_elapsed         | 25          |\n",
      "|    total_timesteps      | 8192        |\n",
      "| train/                  |             |\n",
      "|    approx_kl            | 0.009721671 |\n",
      "|    clip_fraction        | 0.11        |\n",
      "|    clip_range           | 0.2         |\n",
      "|    entropy_loss         | -0.632      |\n",
      "|    explained_variance   | 0.284       |\n",
      "|    learning_rate        | 0.0003      |\n",
      "|    loss                 | 28.4        |\n",
      "|    n_updates            | 30          |\n",
      "|    policy_gradient_loss | -0.0229     |\n",
      "|    value_loss           | 47.8        |\n",
      "-----------------------------------------\n"
     ]
    },
    {
     "name": "stdout",
     "output_type": "stream",
     "text": [
      "------------------------------------------\n",
      "| time/                   |              |\n",
      "|    fps                  | 316          |\n",
      "|    iterations           | 5            |\n",
      "|    time_elapsed         | 32           |\n",
      "|    total_timesteps      | 10240        |\n",
      "| train/                  |              |\n",
      "|    approx_kl            | 0.0077522267 |\n",
      "|    clip_fraction        | 0.0652       |\n",
      "|    clip_range           | 0.2          |\n",
      "|    entropy_loss         | -0.604       |\n",
      "|    explained_variance   | 0.259        |\n",
      "|    learning_rate        | 0.0003       |\n",
      "|    loss                 | 29.9         |\n",
      "|    n_updates            | 40           |\n",
      "|    policy_gradient_loss | -0.0153      |\n",
      "|    value_loss           | 60.8         |\n",
      "------------------------------------------\n"
     ]
    },
    {
     "name": "stdout",
     "output_type": "stream",
     "text": [
      "-----------------------------------------\n",
      "| time/                   |             |\n",
      "|    fps                  | 315         |\n",
      "|    iterations           | 6           |\n",
      "|    time_elapsed         | 38          |\n",
      "|    total_timesteps      | 12288       |\n",
      "| train/                  |             |\n",
      "|    approx_kl            | 0.006795604 |\n",
      "|    clip_fraction        | 0.0666      |\n",
      "|    clip_range           | 0.2         |\n",
      "|    entropy_loss         | -0.594      |\n",
      "|    explained_variance   | 0.552       |\n",
      "|    learning_rate        | 0.0003      |\n",
      "|    loss                 | 22.6        |\n",
      "|    n_updates            | 50          |\n",
      "|    policy_gradient_loss | -0.0134     |\n",
      "|    value_loss           | 50.9        |\n",
      "-----------------------------------------\n"
     ]
    },
    {
     "name": "stdout",
     "output_type": "stream",
     "text": [
      "-----------------------------------------\n",
      "| time/                   |             |\n",
      "|    fps                  | 316         |\n",
      "|    iterations           | 7           |\n",
      "|    time_elapsed         | 45          |\n",
      "|    total_timesteps      | 14336       |\n",
      "| train/                  |             |\n",
      "|    approx_kl            | 0.012602527 |\n",
      "|    clip_fraction        | 0.0887      |\n",
      "|    clip_range           | 0.2         |\n",
      "|    entropy_loss         | -0.571      |\n",
      "|    explained_variance   | 0.613       |\n",
      "|    learning_rate        | 0.0003      |\n",
      "|    loss                 | 24.5        |\n",
      "|    n_updates            | 60          |\n",
      "|    policy_gradient_loss | -0.0126     |\n",
      "|    value_loss           | 55.5        |\n",
      "-----------------------------------------\n"
     ]
    },
    {
     "name": "stdout",
     "output_type": "stream",
     "text": [
      "-----------------------------------------\n",
      "| time/                   |             |\n",
      "|    fps                  | 316         |\n",
      "|    iterations           | 8           |\n",
      "|    time_elapsed         | 51          |\n",
      "|    total_timesteps      | 16384       |\n",
      "| train/                  |             |\n",
      "|    approx_kl            | 0.011325415 |\n",
      "|    clip_fraction        | 0.125       |\n",
      "|    clip_range           | 0.2         |\n",
      "|    entropy_loss         | -0.566      |\n",
      "|    explained_variance   | 0.698       |\n",
      "|    learning_rate        | 0.0003      |\n",
      "|    loss                 | 12.1        |\n",
      "|    n_updates            | 70          |\n",
      "|    policy_gradient_loss | -0.0135     |\n",
      "|    value_loss           | 48.8        |\n",
      "-----------------------------------------\n"
     ]
    },
    {
     "name": "stdout",
     "output_type": "stream",
     "text": [
      "-----------------------------------------\n",
      "| time/                   |             |\n",
      "|    fps                  | 316         |\n",
      "|    iterations           | 9           |\n",
      "|    time_elapsed         | 58          |\n",
      "|    total_timesteps      | 18432       |\n",
      "| train/                  |             |\n",
      "|    approx_kl            | 0.006810846 |\n",
      "|    clip_fraction        | 0.0492      |\n",
      "|    clip_range           | 0.2         |\n",
      "|    entropy_loss         | -0.574      |\n",
      "|    explained_variance   | 0.786       |\n",
      "|    learning_rate        | 0.0003      |\n",
      "|    loss                 | 13.9        |\n",
      "|    n_updates            | 80          |\n",
      "|    policy_gradient_loss | -0.00992    |\n",
      "|    value_loss           | 39.5        |\n",
      "-----------------------------------------\n"
     ]
    },
    {
     "name": "stdout",
     "output_type": "stream",
     "text": [
      "----------------------------------------\n",
      "| time/                   |            |\n",
      "|    fps                  | 314        |\n",
      "|    iterations           | 10         |\n",
      "|    time_elapsed         | 65         |\n",
      "|    total_timesteps      | 20480      |\n",
      "| train/                  |            |\n",
      "|    approx_kl            | 0.00721616 |\n",
      "|    clip_fraction        | 0.0874     |\n",
      "|    clip_range           | 0.2        |\n",
      "|    entropy_loss         | -0.584     |\n",
      "|    explained_variance   | 0.931      |\n",
      "|    learning_rate        | 0.0003     |\n",
      "|    loss                 | 3.98       |\n",
      "|    n_updates            | 90         |\n",
      "|    policy_gradient_loss | -0.011     |\n",
      "|    value_loss           | 17.6       |\n",
      "----------------------------------------\n"
     ]
    },
    {
     "data": {
      "text/html": [
       "<pre style=\"white-space:pre;overflow-x:auto;line-height:normal;font-family:Menlo,'DejaVu Sans Mono',consolas,'Courier New',monospace\"></pre>\n"
      ],
      "text/plain": []
     },
     "metadata": {},
     "output_type": "display_data"
    },
    {
     "data": {
      "text/html": [
       "<pre style=\"white-space:pre;overflow-x:auto;line-height:normal;font-family:Menlo,'DejaVu Sans Mono',consolas,'Courier New',monospace\">\n",
       "</pre>\n"
      ],
      "text/plain": [
       "\n"
      ]
     },
     "metadata": {},
     "output_type": "display_data"
    },
    {
     "data": {
      "text/plain": [
       "<stable_baselines3.ppo.ppo.PPO at 0x2371ff1aba8>"
      ]
     },
     "execution_count": 5,
     "metadata": {},
     "output_type": "execute_result"
    }
   ],
   "source": [
    "# total_timesteps is the number of env.steps(action) being run during training\n",
    "model.learn(total_timesteps=20000, progress_bar=True)"
   ]
  },
  {
   "cell_type": "code",
   "execution_count": 6,
   "metadata": {},
   "outputs": [
    {
     "name": "stdout",
     "output_type": "stream",
     "text": [
      "Episode: 1 ;   Score: [500.]\n",
      "Episode: 2 ;   Score: [500.]\n",
      "Episode: 3 ;   Score: [121.]\n",
      "Episode: 4 ;   Score: [500.]\n",
      "Episode: 5 ;   Score: [500.]\n",
      "Episode: 6 ;   Score: [500.]\n",
      "Episode: 7 ;   Score: [175.]\n",
      "Episode: 8 ;   Score: [500.]\n",
      "Episode: 9 ;   Score: [500.]\n",
      "Episode: 10 ;   Score: [500.]\n",
      "Episode: 11 ;   Score: [500.]\n",
      "Episode: 12 ;   Score: [255.]\n",
      "Episode: 13 ;   Score: [500.]\n",
      "Episode: 14 ;   Score: [500.]\n",
      "Episode: 15 ;   Score: [180.]\n",
      "Episode: 16 ;   Score: [500.]\n",
      "Episode: 17 ;   Score: [478.]\n",
      "Episode: 18 ;   Score: [295.]\n",
      "Episode: 19 ;   Score: [500.]\n",
      "Episode: 20 ;   Score: [500.]\n",
      "Episode: 21 ;   Score: [500.]\n",
      "Episode: 22 ;   Score: [443.]\n",
      "Episode: 23 ;   Score: [500.]\n",
      "Episode: 24 ;   Score: [500.]\n",
      "Episode: 25 ;   Score: [500.]\n",
      "Episode: 26 ;   Score: [500.]\n",
      "Episode: 27 ;   Score: [500.]\n",
      "Episode: 28 ;   Score: [306.]\n",
      "Episode: 29 ;   Score: [500.]\n",
      "Episode: 30 ;   Score: [500.]\n",
      "Episode: 31 ;   Score: [500.]\n",
      "Episode: 32 ;   Score: [500.]\n",
      "Episode: 33 ;   Score: [163.]\n",
      "Episode: 34 ;   Score: [283.]\n",
      "Episode: 35 ;   Score: [500.]\n",
      "Episode: 36 ;   Score: [500.]\n",
      "Episode: 37 ;   Score: [39.]\n",
      "Episode: 38 ;   Score: [500.]\n",
      "Episode: 39 ;   Score: [500.]\n",
      "Episode: 40 ;   Score: [500.]\n",
      "Episode: 41 ;   Score: [500.]\n",
      "Episode: 42 ;   Score: [202.]\n",
      "Episode: 43 ;   Score: [55.]\n",
      "Episode: 44 ;   Score: [500.]\n",
      "Episode: 45 ;   Score: [500.]\n",
      "Episode: 46 ;   Score: [500.]\n",
      "Episode: 47 ;   Score: [500.]\n",
      "Episode: 48 ;   Score: [67.]\n",
      "Episode: 49 ;   Score: [500.]\n",
      "Episode: 50 ;   Score: [500.]\n",
      "Episode: 51 ;   Score: [500.]\n",
      "Episode: 52 ;   Score: [500.]\n",
      "Episode: 53 ;   Score: [22.]\n",
      "Episode: 54 ;   Score: [222.]\n",
      "Episode: 55 ;   Score: [370.]\n",
      "Episode: 56 ;   Score: [500.]\n",
      "Episode: 57 ;   Score: [500.]\n",
      "Episode: 58 ;   Score: [500.]\n",
      "Episode: 59 ;   Score: [98.]\n",
      "Episode: 60 ;   Score: [500.]\n",
      "Episode: 61 ;   Score: [500.]\n",
      "Episode: 62 ;   Score: [386.]\n",
      "Episode: 63 ;   Score: [320.]\n",
      "Episode: 64 ;   Score: [500.]\n",
      "Episode: 65 ;   Score: [500.]\n",
      "Episode: 66 ;   Score: [500.]\n",
      "Episode: 67 ;   Score: [500.]\n",
      "Episode: 68 ;   Score: [500.]\n",
      "Episode: 69 ;   Score: [500.]\n",
      "Episode: 70 ;   Score: [500.]\n",
      "Episode: 71 ;   Score: [500.]\n",
      "Episode: 72 ;   Score: [500.]\n",
      "Episode: 73 ;   Score: [500.]\n",
      "Episode: 74 ;   Score: [500.]\n",
      "Episode: 75 ;   Score: [500.]\n",
      "Episode: 76 ;   Score: [211.]\n",
      "Episode: 77 ;   Score: [500.]\n",
      "Episode: 78 ;   Score: [500.]\n",
      "Episode: 79 ;   Score: [500.]\n",
      "Episode: 80 ;   Score: [82.]\n",
      "Episode: 81 ;   Score: [500.]\n",
      "Episode: 82 ;   Score: [500.]\n",
      "Episode: 83 ;   Score: [500.]\n",
      "Episode: 84 ;   Score: [157.]\n",
      "Episode: 85 ;   Score: [500.]\n",
      "Episode: 86 ;   Score: [313.]\n",
      "Episode: 87 ;   Score: [500.]\n",
      "Episode: 88 ;   Score: [270.]\n",
      "Episode: 89 ;   Score: [500.]\n",
      "Episode: 90 ;   Score: [500.]\n",
      "Episode: 91 ;   Score: [395.]\n",
      "Episode: 92 ;   Score: [279.]\n",
      "Episode: 93 ;   Score: [8.]\n",
      "Episode: 94 ;   Score: [500.]\n",
      "Episode: 95 ;   Score: [500.]\n",
      "Episode: 96 ;   Score: [500.]\n",
      "Episode: 97 ;   Score: [500.]\n",
      "Episode: 98 ;   Score: [500.]\n",
      "Episode: 99 ;   Score: [500.]\n",
      "Average score is  [421.16162]\n"
     ]
    }
   ],
   "source": [
    "sum_episode_scores = []\n",
    "\n",
    "for episode in range(1, 100):    ## total 10 episodes\n",
    "    score = 0                   ## reward init\n",
    "    obs = env.reset()         ## observations\n",
    "    done = False                ## episode completes will make done True\n",
    "\n",
    "    for state in range(500):\n",
    "        env.render()\n",
    "        action, _ = model.predict(obs)\n",
    "        n_state, reward, done, info = env.step(action)      ## apply action \n",
    "        if (abs(n_state[0][0]) > 2.4 or abs(n_state[0][2]) > 0.209):\n",
    "            break\n",
    "\n",
    "        score += reward        \n",
    "\n",
    "    print('Episode:', episode, ';   Score:', score)\n",
    "    sum_episode_scores.append(score)\n",
    "\n",
    "\n",
    "print(\"Average score is \", sum(sum_episode_scores) / len(sum_episode_scores))\n",
    "\n",
    "env.close()"
   ]
  },
  {
   "cell_type": "code",
   "execution_count": 7,
   "metadata": {},
   "outputs": [
    {
     "data": {
      "image/png": "[encoded data removed]",
      "text/plain": [
       "<Figure size 640x480 with 1 Axes>"
      ]
     },
     "metadata": {},
     "output_type": "display_data"
    }
   ],
   "source": [
    "plt.plot(sum_episode_scores)\n",
    "plt.title(\"Cumulative reward for each episode\")\n",
    "plt.ylabel(\"Cumulative reward\")\n",
    "plt.xlabel(\"Episode\")\n",
    "plt.show()"
   ]
  }
 ],
 "metadata": {
  "kernelspec": {
   "display_name": "venv",
   "language": "python",
   "name": "python3"
  },
  "language_info": {
   "codemirror_mode": {
    "name": "ipython",
    "version": 3
   },
   "file_extension": ".py",
   "mimetype": "text/x-python",
   "name": "python",
   "nbconvert_exporter": "python",
   "pygments_lexer": "ipython3",
   "version": "3.7.0"
  },
  "orig_nbformat": 4,
  "vscode": {
   "interpreter": {
    "hash": "4f259383b37fabc0404bde83e2962c41ec5aa8be93bdc9eb114bea6a32ebc4ef"
   }
  }
 },
 "nbformat": 4,
 "nbformat_minor": 2
}
