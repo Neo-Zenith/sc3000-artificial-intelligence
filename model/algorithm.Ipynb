{
 "cells": [
  {
   "attachments": {},
   "cell_type": "markdown",
   "metadata": {},
   "source": [
    "## Project Description"
   ]
  },
  {
   "attachments": {},
   "cell_type": "markdown",
   "metadata": {},
   "source": [
    "## Import Dependencies"
   ]
  },
  {
   "cell_type": "code",
   "execution_count": 1,
   "metadata": {},
   "outputs": [
    {
     "name": "stdout",
     "output_type": "stream",
     "text": [
      "WARNING:tensorflow:\n",
      "The TensorFlow contrib module will not be included in TensorFlow 2.0.\n",
      "For more information, please see:\n",
      "  * https://github.com/tensorflow/community/blob/master/rfcs/20180907-contrib-sunset.md\n",
      "  * https://github.com/tensorflow/addons\n",
      "  * https://github.com/tensorflow/io (for I/O related ops)\n",
      "If you depend on functionality not listed there, please file an issue.\n",
      "\n"
     ]
    },
    {
     "name": "stderr",
     "output_type": "stream",
     "text": [
      "c:\\Users\\juinl\\Documents\\GitHub\\SC3000-artificial-intelligence\\venv\\lib\\site-packages\\stable_baselines\\__init__.py:33: UserWarning: stable-baselines is in maintenance mode, please use [Stable-Baselines3 (SB3)](https://github.com/DLR-RM/stable-baselines3) for an up-to-date version. You can find a [migration guide](https://stable-baselines3.readthedocs.io/en/master/guide/migration.html) in SB3 documentation.\n",
      "  \"stable-baselines is in maintenance mode, please use [Stable-Baselines3 (SB3)](https://github.com/DLR-RM/stable-baselines3) for an up-to-date version. You can find a [migration guide](https://stable-baselines3.readthedocs.io/en/master/guide/migration.html) in SB3 documentation.\"\n"
     ]
    }
   ],
   "source": [
    "import gym\n",
    "from stable_baselines import ppo1   \n",
    "from stable_baselines.common.vec_env import dummy_vec_env\n",
    "from stable_baselines.common.evaluation import evaluate_policy"
   ]
  },
  {
   "attachments": {},
   "cell_type": "markdown",
   "metadata": {},
   "source": [
    "## Environment Testing"
   ]
  },
  {
   "cell_type": "code",
   "execution_count": 7,
   "metadata": {},
   "outputs": [],
   "source": [
    "env_name = 'CartPole-v1'\n",
    "env = gym.make(env_name, render_mode=\"rgb_array\")"
   ]
  },
  {
   "cell_type": "code",
   "execution_count": 8,
   "metadata": {},
   "outputs": [
    {
     "name": "stdout",
     "output_type": "stream",
     "text": [
      "Episode: 1 ;   Score: 53.0\n",
      "Episode: 2 ;   Score: 11.0\n",
      "Episode: 3 ;   Score: 17.0\n",
      "Episode: 4 ;   Score: 28.0\n",
      "Episode: 5 ;   Score: 19.0\n",
      "Episode: 6 ;   Score: 41.0\n",
      "Episode: 7 ;   Score: 14.0\n",
      "Episode: 8 ;   Score: 13.0\n",
      "Episode: 9 ;   Score: 21.0\n",
      "Episode: 10 ;   Score: 13.0\n"
     ]
    }
   ],
   "source": [
    "for episode in range(1, 11):    ## total 10 episodes\n",
    "    score = 0                   ## reward init\n",
    "    state = env.reset()         ## observations\n",
    "    done = False                ## episode completes will make done True\n",
    "\n",
    "    while not done:\n",
    "        env.render()\n",
    "        action = env.action_space.sample()                  ## pick a random action (0 or 1)\n",
    "        n_state, reward, done, info, _ = env.step(action)      ## apply action \n",
    "        score += reward\n",
    "\n",
    "    print('Episode:', episode, ';   Score:', score)\n",
    "\n",
    "# env.close()"
   ]
  }
 ],
 "metadata": {
  "kernelspec": {
   "display_name": "venv",
   "language": "python",
   "name": "python3"
  },
  "language_info": {
   "codemirror_mode": {
    "name": "ipython",
    "version": 3
   },
   "file_extension": ".py",
   "mimetype": "text/x-python",
   "name": "python",
   "nbconvert_exporter": "python",
   "pygments_lexer": "ipython3",
   "version": "3.7.0"
  },
  "orig_nbformat": 4,
  "vscode": {
   "interpreter": {
    "hash": "4f259383b37fabc0404bde83e2962c41ec5aa8be93bdc9eb114bea6a32ebc4ef"
   }
  }
 },
 "nbformat": 4,
 "nbformat_minor": 2
}
