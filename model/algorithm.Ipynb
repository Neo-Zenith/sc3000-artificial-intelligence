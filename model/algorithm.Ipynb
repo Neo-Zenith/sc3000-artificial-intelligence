{
 "cells": [
  {
   "attachments": {},
   "cell_type": "markdown",
   "metadata": {},
   "source": [
    "## Project Description\n"
   ]
  },
  {
   "attachments": {},
   "cell_type": "markdown",
   "metadata": {},
   "source": [
    "A pole is attached by an un-actuated joint to a cart, which moves along a frictionless track. The pendulum is placed upright on the cart and the goal is to balance the pole by applying forces in the left and right direction on the cart. In this project, we will develop a Reinforcement Learning (RL) agent. The trained agent makes the decision to push the cart to the left or right based on the cart position, velocity, and the pole angle, angular velocity."
   ]
  },
  {
   "attachments": {},
   "cell_type": "markdown",
   "metadata": {},
   "source": [
    "### Action Space"
   ]
  },
  {
   "attachments": {},
   "cell_type": "markdown",
   "metadata": {},
   "source": [
    "The action is an *ndarray* with shape (1,) which can take values {0, 1} indicating pushing the cart to the left or right, respectively. Note that the velocity that is reduced or increased by the applied force is not fixed and it depends on the angle the pole is pointing. The center of gravity of the pole varies the amount of energy needed to move the cart underneath it."
   ]
  },
  {
   "attachments": {},
   "cell_type": "markdown",
   "metadata": {},
   "source": [
    "### State Space"
   ]
  },
  {
   "attachments": {},
   "cell_type": "markdown",
   "metadata": {},
   "source": [
    "We define *observation* as a state (they are used interchangeably here). The observation is an *ndarray* with shape (4,) with the values corresponding to the following positions and velocities:\n",
    "\n",
    "| **Observation[n]** | **Observation**       | **Min**             | **Max**           |\n",
    "| ------- | --------------------- | ------------------- | ----------------- |\n",
    "| **0**   | Cart Position         | \\-4.8               | 4.8               |\n",
    "| **1**   | Cart Velocity         | \\-Inf               | Inf               |\n",
    "| **2**   | Pole Angle            | ~ -0.418 rad (-24°) | ~ 0.418 rad (24°) |\n",
    "| **3**   | Pole Angular Velocity | \\-Inf               | Inf               |"
   ]
  },
  {
   "attachments": {},
   "cell_type": "markdown",
   "metadata": {},
   "source": [
    "## Conditions"
   ]
  },
  {
   "attachments": {},
   "cell_type": "markdown",
   "metadata": {},
   "source": [
    "The challenge is to balance the pole for **500 states per episode**. \n",
    "\n",
    "The pole is said to be balanced if:\n",
    "* Pole Angle is at most ±12°\n",
    "* Cart Position is at most ±2.4 (center of the cart reaches the edge of the display)\n",
    "\n",
    "Violation to any of the above two conditions defines an unbalanced pole."
   ]
  },
  {
   "attachments": {},
   "cell_type": "markdown",
   "metadata": {},
   "source": [
    "## Solution"
   ]
  },
  {
   "attachments": {},
   "cell_type": "markdown",
   "metadata": {},
   "source": [
    "We have considered two options for our reinforcement learning algorithm, DQN(**Q-learning**) and PPO(**Proximal Policy Optimization**)\n",
    "\n",
    "**DQN**\n",
    "* Uses experience replay to learn from all past policies\n",
    "* Freezes target Q-network to avoid the moving target issue\n",
    "* Clip rewards or normalize network adaptive to sensible range\n",
    "\n",
    "![image](https://user-images.githubusercontent.com/87069189/221127139-9876d36c-d7dc-4224-817e-9e4f6ac40a82.png)\n",
    "\n",
    "**PPO**\n",
    "* We maintain two networkes, one with the current policy that we want to refine and second that we use to collect samples\n",
    "* Clip the objective and calculate the ratio between the new policy and old policy\n",
    "\n",
    "![image](https://user-images.githubusercontent.com/87069189/221127443-c2cacde4-9e83-44cc-8ac3-ee8a1fdb3687.png)\n",
    "\n",
    "After considering various factors, we will be using **Proximal Policy Optimization (PPO)**. \n",
    "\n",
    "\n"
   ]
  },
  {
   "attachments": {},
   "cell_type": "markdown",
   "metadata": {},
   "source": [
    "### Rationale"
   ]
  },
  {
   "attachments": {},
   "cell_type": "markdown",
   "metadata": {},
   "source": [
    "* PPO is generally **more sample-efficient** than Q-learning. It can learn the optimal policy more quickly using fewer samples from the environment. This is useful for this cartpole balancing problem, where each episode is relatively short and time-consuming.\n",
    "\n",
    "* PPO **can handle continuous state spaces**, whereas Q-learning requires discretization of the state space. Since the cartpole balancing problem has a continuous state space, this could be an advantage for PPO.\n",
    "\n",
    "* PPO is a **policy optimization algorithm**, which means that it directly optimizes the policy rather than estimating the optimal action-value function. This can be **advantageous when the optimal policy is complex** or difficult to represent in a tabular form, as is the case in many RL problems."
   ]
  },
  {
   "attachments": {},
   "cell_type": "markdown",
   "metadata": {},
   "source": [
    "## Import Dependencies"
   ]
  },
  {
   "attachments": {},
   "cell_type": "markdown",
   "metadata": {},
   "source": [
    "Stable Baselines is a set of improved implementations of Reinforcement Learning (RL) algorithms based on OpenAI Baselines. We will be importing the PPO algorithm from here.\n",
    "\n",
    "* Reference & more details: https://stable-baselines3.readthedocs.io/en/master/modules/ppo.html\n",
    "* Implementation code of PPO in stable-baseline3: https://github.com/DLR-RM/stable-baselines3/tree/master/stable_baselines3/ppo"
   ]
  },
  {
   "cell_type": "code",
   "execution_count": 1,
   "metadata": {},
   "outputs": [],
   "source": [
    "import gym\n",
    "from gym.wrappers import RecordVideo\n",
    "from stable_baselines3 import PPO\n",
    "from stable_baselines3.common.vec_env import DummyVecEnv\n",
    "from stable_baselines3.common.evaluation import evaluate_policy\n",
    "import matplotlib.pyplot as plt\n",
    "import torch\n",
    "import glob\n",
    "from IPython.display import HTML\n",
    "from IPython import display as ipythondisplay\n",
    "import io\n",
    "import base64"
   ]
  },
  {
   "attachments": {},
   "cell_type": "markdown",
   "metadata": {},
   "source": [
    "## Environment Testing"
   ]
  },
  {
   "cell_type": "code",
   "execution_count": 2,
   "metadata": {},
   "outputs": [],
   "source": [
    "env_name = 'CartPole-v1'\n",
    "env = gym.make(env_name)"
   ]
  },
  {
   "attachments": {},
   "cell_type": "markdown",
   "metadata": {},
   "source": [
    "## Model Training"
   ]
  },
  {
   "attachments": {},
   "cell_type": "markdown",
   "metadata": {},
   "source": [
    "Check if CUDA device is available."
   ]
  },
  {
   "cell_type": "code",
   "execution_count": 3,
   "metadata": {},
   "outputs": [
    {
     "name": "stdout",
     "output_type": "stream",
     "text": [
      "11.6\n"
     ]
    }
   ],
   "source": [
    "torch.cuda.is_available()\n",
    "print(torch.version.cuda)"
   ]
  },
  {
   "attachments": {},
   "cell_type": "markdown",
   "metadata": {},
   "source": [
    "## Vectorized Environment"
   ]
  },
  {
   "attachments": {},
   "cell_type": "markdown",
   "metadata": {},
   "source": [
    "Vectorized Environments are a method for stacking multiple independent environments into a single environment.\n",
    "\n",
    "This provides two benefits:\n",
    "\n",
    "* Agent experience can be collected more quickly\n",
    "* The experience will contain a more diverse range of states, it usually improves exploration\n",
    "\n",
    "Stable-Baselines provides two types of Vectorized Environment:\n",
    "\n",
    "* SubprocVecEnv which run each environment in a separate process\n",
    "* DummyVecEnv which run all environment on the same process\n",
    "In practice, DummyVecEnv is usually faster than SubprocVecEnv because of communication delays that subprocesses have."
   ]
  },
  {
   "cell_type": "code",
   "execution_count": 4,
   "metadata": {},
   "outputs": [
    {
     "name": "stdout",
     "output_type": "stream",
     "text": [
      "Using cuda device\n"
     ]
    }
   ],
   "source": [
    "env = gym.make(env_name)\n",
    "env = DummyVecEnv([lambda: env])\n",
    "\n",
    "model = PPO('MlpPolicy', env, verbose=1, device=\"cuda\") # run this if you have an nVidia GPU installed\n",
    "# model = PPO('MlpPolicy', env, verbose=1, device=\"auto\")   # otherwise run this instead"
   ]
  },
  {
   "attachments": {},
   "cell_type": "markdown",
   "metadata": {},
   "source": [
    "## Training the model"
   ]
  },
  {
   "attachments": {},
   "cell_type": "markdown",
   "metadata": {},
   "source": [
    "Begin training the model using a total timestep of 10000 (i.e., 10000 actions)\n",
    "\n",
    "* total_timesteps – (int) The total number of samples to train on\n",
    "\n",
    "* Note: total_timesteps is the number of steps in total the agent will do for any environment. The total_timesteps can be across several episodes, meaning that this value is not bound to some maximum"
   ]
  },
  {
   "cell_type": "code",
   "execution_count": 5,
   "metadata": {},
   "outputs": [
    {
     "data": {
      "application/vnd.jupyter.widget-view+json": {
       "model_id": "66981f45eb3c4c5dabca890f90c6fb57",
       "version_major": 2,
       "version_minor": 0
      },
      "text/plain": [
       "Output()"
      ]
     },
     "metadata": {},
     "output_type": "display_data"
    },
    {
     "name": "stdout",
     "output_type": "stream",
     "text": [
      "-----------------------------\n",
      "| time/              |      |\n",
      "|    fps             | 284  |\n",
      "|    iterations      | 1    |\n",
      "|    time_elapsed    | 7    |\n",
      "|    total_timesteps | 2048 |\n",
      "-----------------------------\n"
     ]
    },
    {
     "name": "stdout",
     "output_type": "stream",
     "text": [
      "-----------------------------------------\n",
      "| time/                   |             |\n",
      "|    fps                  | 263         |\n",
      "|    iterations           | 2           |\n",
      "|    time_elapsed         | 15          |\n",
      "|    total_timesteps      | 4096        |\n",
      "| train/                  |             |\n",
      "|    approx_kl            | 0.008001389 |\n",
      "|    clip_fraction        | 0.103       |\n",
      "|    clip_range           | 0.2         |\n",
      "|    entropy_loss         | -0.686      |\n",
      "|    explained_variance   | -0.00545    |\n",
      "|    learning_rate        | 0.0003      |\n",
      "|    loss                 | 11          |\n",
      "|    n_updates            | 10          |\n",
      "|    policy_gradient_loss | -0.0179     |\n",
      "|    value_loss           | 64.2        |\n",
      "-----------------------------------------\n"
     ]
    },
    {
     "name": "stdout",
     "output_type": "stream",
     "text": [
      "----------------------------------------\n",
      "| time/                   |            |\n",
      "|    fps                  | 259        |\n",
      "|    iterations           | 3          |\n",
      "|    time_elapsed         | 23         |\n",
      "|    total_timesteps      | 6144       |\n",
      "| train/                  |            |\n",
      "|    approx_kl            | 0.01100172 |\n",
      "|    clip_fraction        | 0.0744     |\n",
      "|    clip_range           | 0.2        |\n",
      "|    entropy_loss         | -0.663     |\n",
      "|    explained_variance   | 0.0324     |\n",
      "|    learning_rate        | 0.0003     |\n",
      "|    loss                 | 16         |\n",
      "|    n_updates            | 20         |\n",
      "|    policy_gradient_loss | -0.0196    |\n",
      "|    value_loss           | 37         |\n",
      "----------------------------------------\n"
     ]
    },
    {
     "name": "stdout",
     "output_type": "stream",
     "text": [
      "------------------------------------------\n",
      "| time/                   |              |\n",
      "|    fps                  | 256          |\n",
      "|    iterations           | 4            |\n",
      "|    time_elapsed         | 31           |\n",
      "|    total_timesteps      | 8192         |\n",
      "| train/                  |              |\n",
      "|    approx_kl            | 0.0068670046 |\n",
      "|    clip_fraction        | 0.0724       |\n",
      "|    clip_range           | 0.2          |\n",
      "|    entropy_loss         | -0.631       |\n",
      "|    explained_variance   | 0.209        |\n",
      "|    learning_rate        | 0.0003       |\n",
      "|    loss                 | 22.7         |\n",
      "|    n_updates            | 30           |\n",
      "|    policy_gradient_loss | -0.0175      |\n",
      "|    value_loss           | 53.3         |\n",
      "------------------------------------------\n"
     ]
    },
    {
     "name": "stdout",
     "output_type": "stream",
     "text": [
      "-----------------------------------------\n",
      "| time/                   |             |\n",
      "|    fps                  | 256         |\n",
      "|    iterations           | 5           |\n",
      "|    time_elapsed         | 39          |\n",
      "|    total_timesteps      | 10240       |\n",
      "| train/                  |             |\n",
      "|    approx_kl            | 0.006083435 |\n",
      "|    clip_fraction        | 0.0459      |\n",
      "|    clip_range           | 0.2         |\n",
      "|    entropy_loss         | -0.612      |\n",
      "|    explained_variance   | 0.296       |\n",
      "|    learning_rate        | 0.0003      |\n",
      "|    loss                 | 23.3        |\n",
      "|    n_updates            | 40          |\n",
      "|    policy_gradient_loss | -0.0134     |\n",
      "|    value_loss           | 65.9        |\n",
      "-----------------------------------------\n"
     ]
    },
    {
     "name": "stdout",
     "output_type": "stream",
     "text": [
      "------------------------------------------\n",
      "| time/                   |              |\n",
      "|    fps                  | 255          |\n",
      "|    iterations           | 6            |\n",
      "|    time_elapsed         | 48           |\n",
      "|    total_timesteps      | 12288        |\n",
      "| train/                  |              |\n",
      "|    approx_kl            | 0.0050197346 |\n",
      "|    clip_fraction        | 0.0389       |\n",
      "|    clip_range           | 0.2          |\n",
      "|    entropy_loss         | -0.6         |\n",
      "|    explained_variance   | 0.359        |\n",
      "|    learning_rate        | 0.0003       |\n",
      "|    loss                 | 37           |\n",
      "|    n_updates            | 50           |\n",
      "|    policy_gradient_loss | -0.0101      |\n",
      "|    value_loss           | 64.7         |\n",
      "------------------------------------------\n"
     ]
    },
    {
     "name": "stdout",
     "output_type": "stream",
     "text": [
      "-----------------------------------------\n",
      "| time/                   |             |\n",
      "|    fps                  | 255         |\n",
      "|    iterations           | 7           |\n",
      "|    time_elapsed         | 56          |\n",
      "|    total_timesteps      | 14336       |\n",
      "| train/                  |             |\n",
      "|    approx_kl            | 0.005930895 |\n",
      "|    clip_fraction        | 0.0645      |\n",
      "|    clip_range           | 0.2         |\n",
      "|    entropy_loss         | -0.573      |\n",
      "|    explained_variance   | 0.567       |\n",
      "|    learning_rate        | 0.0003      |\n",
      "|    loss                 | 30.6        |\n",
      "|    n_updates            | 60          |\n",
      "|    policy_gradient_loss | -0.0127     |\n",
      "|    value_loss           | 59.4        |\n",
      "-----------------------------------------\n"
     ]
    },
    {
     "name": "stdout",
     "output_type": "stream",
     "text": [
      "------------------------------------------\n",
      "| time/                   |              |\n",
      "|    fps                  | 255          |\n",
      "|    iterations           | 8            |\n",
      "|    time_elapsed         | 64           |\n",
      "|    total_timesteps      | 16384        |\n",
      "| train/                  |              |\n",
      "|    approx_kl            | 0.0058198413 |\n",
      "|    clip_fraction        | 0.0603       |\n",
      "|    clip_range           | 0.2          |\n",
      "|    entropy_loss         | -0.581       |\n",
      "|    explained_variance   | 0.753        |\n",
      "|    learning_rate        | 0.0003       |\n",
      "|    loss                 | 12.5         |\n",
      "|    n_updates            | 70           |\n",
      "|    policy_gradient_loss | -0.0128      |\n",
      "|    value_loss           | 42.1         |\n",
      "------------------------------------------\n"
     ]
    },
    {
     "name": "stdout",
     "output_type": "stream",
     "text": [
      "-----------------------------------------\n",
      "| time/                   |             |\n",
      "|    fps                  | 253         |\n",
      "|    iterations           | 9           |\n",
      "|    time_elapsed         | 72          |\n",
      "|    total_timesteps      | 18432       |\n",
      "| train/                  |             |\n",
      "|    approx_kl            | 0.010667295 |\n",
      "|    clip_fraction        | 0.158       |\n",
      "|    clip_range           | 0.2         |\n",
      "|    entropy_loss         | -0.582      |\n",
      "|    explained_variance   | 0.872       |\n",
      "|    learning_rate        | 0.0003      |\n",
      "|    loss                 | 8.42        |\n",
      "|    n_updates            | 80          |\n",
      "|    policy_gradient_loss | -0.0191     |\n",
      "|    value_loss           | 31.7        |\n",
      "-----------------------------------------\n"
     ]
    },
    {
     "name": "stdout",
     "output_type": "stream",
     "text": [
      "------------------------------------------\n",
      "| time/                   |              |\n",
      "|    fps                  | 253          |\n",
      "|    iterations           | 10           |\n",
      "|    time_elapsed         | 80           |\n",
      "|    total_timesteps      | 20480        |\n",
      "| train/                  |              |\n",
      "|    approx_kl            | 0.0063912114 |\n",
      "|    clip_fraction        | 0.0525       |\n",
      "|    clip_range           | 0.2          |\n",
      "|    entropy_loss         | -0.584       |\n",
      "|    explained_variance   | 0.625        |\n",
      "|    learning_rate        | 0.0003       |\n",
      "|    loss                 | 11.2         |\n",
      "|    n_updates            | 90           |\n",
      "|    policy_gradient_loss | -0.00572     |\n",
      "|    value_loss           | 38.5         |\n",
      "------------------------------------------\n"
     ]
    },
    {
     "name": "stdout",
     "output_type": "stream",
     "text": [
      "------------------------------------------\n",
      "| time/                   |              |\n",
      "|    fps                  | 252          |\n",
      "|    iterations           | 11           |\n",
      "|    time_elapsed         | 89           |\n",
      "|    total_timesteps      | 22528        |\n",
      "| train/                  |              |\n",
      "|    approx_kl            | 0.0043567466 |\n",
      "|    clip_fraction        | 0.0411       |\n",
      "|    clip_range           | 0.2          |\n",
      "|    entropy_loss         | -0.558       |\n",
      "|    explained_variance   | 0.0433       |\n",
      "|    learning_rate        | 0.0003       |\n",
      "|    loss                 | 30.2         |\n",
      "|    n_updates            | 100          |\n",
      "|    policy_gradient_loss | -0.00701     |\n",
      "|    value_loss           | 95.5         |\n",
      "------------------------------------------\n"
     ]
    },
    {
     "name": "stdout",
     "output_type": "stream",
     "text": [
      "-----------------------------------------\n",
      "| time/                   |             |\n",
      "|    fps                  | 252         |\n",
      "|    iterations           | 12          |\n",
      "|    time_elapsed         | 97          |\n",
      "|    total_timesteps      | 24576       |\n",
      "| train/                  |             |\n",
      "|    approx_kl            | 0.011797701 |\n",
      "|    clip_fraction        | 0.0835      |\n",
      "|    clip_range           | 0.2         |\n",
      "|    entropy_loss         | -0.544      |\n",
      "|    explained_variance   | 0.183       |\n",
      "|    learning_rate        | 0.0003      |\n",
      "|    loss                 | 38.8        |\n",
      "|    n_updates            | 110         |\n",
      "|    policy_gradient_loss | -0.00625    |\n",
      "|    value_loss           | 40.5        |\n",
      "-----------------------------------------\n"
     ]
    },
    {
     "name": "stdout",
     "output_type": "stream",
     "text": [
      "-----------------------------------------\n",
      "| time/                   |             |\n",
      "|    fps                  | 251         |\n",
      "|    iterations           | 13          |\n",
      "|    time_elapsed         | 105         |\n",
      "|    total_timesteps      | 26624       |\n",
      "| train/                  |             |\n",
      "|    approx_kl            | 0.007746441 |\n",
      "|    clip_fraction        | 0.0399      |\n",
      "|    clip_range           | 0.2         |\n",
      "|    entropy_loss         | -0.523      |\n",
      "|    explained_variance   | 0.107       |\n",
      "|    learning_rate        | 0.0003      |\n",
      "|    loss                 | 0.0921      |\n",
      "|    n_updates            | 120         |\n",
      "|    policy_gradient_loss | -0.000583   |\n",
      "|    value_loss           | 5.68        |\n",
      "-----------------------------------------\n"
     ]
    },
    {
     "name": "stdout",
     "output_type": "stream",
     "text": [
      "------------------------------------------\n",
      "| time/                   |              |\n",
      "|    fps                  | 250          |\n",
      "|    iterations           | 14           |\n",
      "|    time_elapsed         | 114          |\n",
      "|    total_timesteps      | 28672        |\n",
      "| train/                  |              |\n",
      "|    approx_kl            | 0.0065888776 |\n",
      "|    clip_fraction        | 0.0651       |\n",
      "|    clip_range           | 0.2          |\n",
      "|    entropy_loss         | -0.509       |\n",
      "|    explained_variance   | 0.842        |\n",
      "|    learning_rate        | 0.0003       |\n",
      "|    loss                 | 0.404        |\n",
      "|    n_updates            | 130          |\n",
      "|    policy_gradient_loss | -0.00833     |\n",
      "|    value_loss           | 6.18         |\n",
      "------------------------------------------\n"
     ]
    },
    {
     "name": "stdout",
     "output_type": "stream",
     "text": [
      "------------------------------------------\n",
      "| time/                   |              |\n",
      "|    fps                  | 249          |\n",
      "|    iterations           | 15           |\n",
      "|    time_elapsed         | 123          |\n",
      "|    total_timesteps      | 30720        |\n",
      "| train/                  |              |\n",
      "|    approx_kl            | 0.0027022227 |\n",
      "|    clip_fraction        | 0.0524       |\n",
      "|    clip_range           | 0.2          |\n",
      "|    entropy_loss         | -0.505       |\n",
      "|    explained_variance   | 0.0253       |\n",
      "|    learning_rate        | 0.0003       |\n",
      "|    loss                 | 0.0211       |\n",
      "|    n_updates            | 140          |\n",
      "|    policy_gradient_loss | -0.00191     |\n",
      "|    value_loss           | 2.23         |\n",
      "------------------------------------------\n"
     ]
    },
    {
     "data": {
      "text/html": [
       "<pre style=\"white-space:pre;overflow-x:auto;line-height:normal;font-family:Menlo,'DejaVu Sans Mono',consolas,'Courier New',monospace\"></pre>\n"
      ],
      "text/plain": []
     },
     "metadata": {},
     "output_type": "display_data"
    },
    {
     "data": {
      "text/html": [
       "<pre style=\"white-space:pre;overflow-x:auto;line-height:normal;font-family:Menlo,'DejaVu Sans Mono',consolas,'Courier New',monospace\">\n",
       "</pre>\n"
      ],
      "text/plain": [
       "\n"
      ]
     },
     "metadata": {},
     "output_type": "display_data"
    },
    {
     "data": {
      "text/plain": [
       "<stable_baselines3.ppo.ppo.PPO at 0x1d0960fae10>"
      ]
     },
     "execution_count": 5,
     "metadata": {},
     "output_type": "execute_result"
    }
   ],
   "source": [
    "# total_timesteps is the number of env.steps(action) being run during training\n",
    "model.learn(total_timesteps=30000, progress_bar=True)"
   ]
  },
  {
   "attachments": {},
   "cell_type": "markdown",
   "metadata": {},
   "source": [
    "## Task 1 (Model Testing)"
   ]
  },
  {
   "cell_type": "code",
   "execution_count": 6,
   "metadata": {},
   "outputs": [
    {
     "name": "stdout",
     "output_type": "stream",
     "text": [
      "Observation space is:  [[0.00601209 0.00394667 0.04379969 0.0385402 ]]\n",
      "Action taken is:  [1]\n"
     ]
    }
   ],
   "source": [
    "observation = env.reset()\n",
    "action, _ = model.predict(observation)\n",
    "print(\"Observation space is: \", observation)\n",
    "print(\"Action taken is: \", action)"
   ]
  },
  {
   "attachments": {},
   "cell_type": "markdown",
   "metadata": {},
   "source": [
    "## Task 2 (Average Score)"
   ]
  },
  {
   "attachments": {},
   "cell_type": "markdown",
   "metadata": {},
   "source": [
    "* We ran the trained agent for 100 episodes, and we displayed the score that the agent received for each episode\n",
    "\n",
    "* Then, we calculated the average score of that the agent received for the 100 episodes"
   ]
  },
  {
   "cell_type": "code",
   "execution_count": 7,
   "metadata": {},
   "outputs": [
    {
     "name": "stdout",
     "output_type": "stream",
     "text": [
      "Episode: 1 ;   Score: [500.]\n",
      "Episode: 2 ;   Score: [500.]\n",
      "Episode: 3 ;   Score: [500.]\n",
      "Episode: 4 ;   Score: [500.]\n",
      "Episode: 5 ;   Score: [500.]\n",
      "Episode: 6 ;   Score: [500.]\n",
      "Episode: 7 ;   Score: [500.]\n",
      "Episode: 8 ;   Score: [500.]\n",
      "Episode: 9 ;   Score: [500.]\n",
      "Episode: 10 ;   Score: [500.]\n",
      "Episode: 11 ;   Score: [500.]\n",
      "Episode: 12 ;   Score: [500.]\n",
      "Episode: 13 ;   Score: [500.]\n",
      "Episode: 14 ;   Score: [500.]\n",
      "Episode: 15 ;   Score: [500.]\n",
      "Episode: 16 ;   Score: [500.]\n",
      "Episode: 17 ;   Score: [500.]\n",
      "Episode: 18 ;   Score: [500.]\n",
      "Episode: 19 ;   Score: [500.]\n",
      "Episode: 20 ;   Score: [500.]\n",
      "Episode: 21 ;   Score: [500.]\n",
      "Episode: 22 ;   Score: [500.]\n",
      "Episode: 23 ;   Score: [500.]\n",
      "Episode: 24 ;   Score: [500.]\n",
      "Episode: 25 ;   Score: [500.]\n",
      "Episode: 26 ;   Score: [500.]\n",
      "Episode: 27 ;   Score: [500.]\n",
      "Episode: 28 ;   Score: [500.]\n",
      "Episode: 29 ;   Score: [500.]\n",
      "Episode: 30 ;   Score: [500.]\n",
      "Episode: 31 ;   Score: [500.]\n",
      "Episode: 32 ;   Score: [500.]\n",
      "Episode: 33 ;   Score: [500.]\n",
      "Episode: 34 ;   Score: [500.]\n",
      "Episode: 35 ;   Score: [500.]\n",
      "Episode: 36 ;   Score: [500.]\n",
      "Episode: 37 ;   Score: [500.]\n",
      "Episode: 38 ;   Score: [500.]\n",
      "Episode: 39 ;   Score: [500.]\n",
      "Episode: 40 ;   Score: [500.]\n",
      "Episode: 41 ;   Score: [500.]\n",
      "Episode: 42 ;   Score: [500.]\n",
      "Episode: 43 ;   Score: [500.]\n",
      "Episode: 44 ;   Score: [500.]\n",
      "Episode: 45 ;   Score: [500.]\n",
      "Episode: 46 ;   Score: [500.]\n",
      "Episode: 47 ;   Score: [500.]\n",
      "Episode: 48 ;   Score: [500.]\n",
      "Episode: 49 ;   Score: [500.]\n",
      "Episode: 50 ;   Score: [500.]\n",
      "Episode: 51 ;   Score: [500.]\n",
      "Episode: 52 ;   Score: [500.]\n",
      "Episode: 53 ;   Score: [500.]\n",
      "Episode: 54 ;   Score: [500.]\n",
      "Episode: 55 ;   Score: [500.]\n",
      "Episode: 56 ;   Score: [500.]\n",
      "Episode: 57 ;   Score: [500.]\n",
      "Episode: 58 ;   Score: [500.]\n",
      "Episode: 59 ;   Score: [500.]\n",
      "Episode: 60 ;   Score: [500.]\n",
      "Episode: 61 ;   Score: [500.]\n",
      "Episode: 62 ;   Score: [500.]\n",
      "Episode: 63 ;   Score: [500.]\n",
      "Episode: 64 ;   Score: [500.]\n",
      "Episode: 65 ;   Score: [500.]\n",
      "Episode: 66 ;   Score: [500.]\n",
      "Episode: 67 ;   Score: [500.]\n",
      "Episode: 68 ;   Score: [500.]\n",
      "Episode: 69 ;   Score: [500.]\n",
      "Episode: 70 ;   Score: [500.]\n",
      "Episode: 71 ;   Score: [500.]\n",
      "Episode: 72 ;   Score: [500.]\n",
      "Episode: 73 ;   Score: [500.]\n",
      "Episode: 74 ;   Score: [500.]\n",
      "Episode: 75 ;   Score: [500.]\n",
      "Episode: 76 ;   Score: [500.]\n",
      "Episode: 77 ;   Score: [500.]\n",
      "Episode: 78 ;   Score: [500.]\n",
      "Episode: 79 ;   Score: [500.]\n",
      "Episode: 80 ;   Score: [500.]\n",
      "Episode: 81 ;   Score: [500.]\n",
      "Episode: 82 ;   Score: [500.]\n",
      "Episode: 83 ;   Score: [500.]\n",
      "Episode: 84 ;   Score: [500.]\n",
      "Episode: 85 ;   Score: [500.]\n",
      "Episode: 86 ;   Score: [500.]\n",
      "Episode: 87 ;   Score: [500.]\n",
      "Episode: 88 ;   Score: [500.]\n",
      "Episode: 89 ;   Score: [500.]\n",
      "Episode: 90 ;   Score: [500.]\n",
      "Episode: 91 ;   Score: [500.]\n",
      "Episode: 92 ;   Score: [500.]\n",
      "Episode: 93 ;   Score: [500.]\n",
      "Episode: 94 ;   Score: [500.]\n",
      "Episode: 95 ;   Score: [500.]\n",
      "Episode: 96 ;   Score: [500.]\n",
      "Episode: 97 ;   Score: [500.]\n",
      "Episode: 98 ;   Score: [500.]\n",
      "Episode: 99 ;   Score: [500.]\n",
      "Average score is  [500.]\n"
     ]
    }
   ],
   "source": [
    "sum_episode_scores = []\n",
    "\n",
    "for episode in range(1, 100):    ## total 10 episodes\n",
    "    score = 0                   ## reward init\n",
    "    obs = env.reset()         ## observations\n",
    "    done = False                ## episode completes will make done True\n",
    "    state = 0\n",
    "\n",
    "    while True:\n",
    "        action = model.predict(obs)[0]\n",
    "        n_state, reward, done, info = env.step(action)      ## apply action \n",
    "        if (abs(n_state[0][0]) > 2.4 or abs(n_state[0][2]) > 0.209):\n",
    "            break\n",
    "        if state == 500:\n",
    "            break\n",
    "        obs = n_state\n",
    "        score += reward  \n",
    "        state += 1      \n",
    "\n",
    "    print('Episode:', episode, ';   Score:', score)\n",
    "    sum_episode_scores.append(score)\n",
    "\n",
    "\n",
    "print(\"Average score is \", sum(sum_episode_scores) / len(sum_episode_scores))\n",
    "\n",
    "env.close()"
   ]
  },
  {
   "attachments": {},
   "cell_type": "markdown",
   "metadata": {},
   "source": [
    "* We then plotted the score of each episode onto a graph and from the graph, we can see that our trained agent performs well on each of the 100 episodes, with only a few outliers."
   ]
  },
  {
   "cell_type": "code",
   "execution_count": 8,
   "metadata": {},
   "outputs": [
    {
     "data": {
      "image/png": "[encoded data removed]",
      "text/plain": [
       "<Figure size 640x480 with 1 Axes>"
      ]
     },
     "metadata": {},
     "output_type": "display_data"
    }
   ],
   "source": [
    "plt.plot(sum_episode_scores)\n",
    "plt.title(\"Cumulative reward for each episode\")\n",
    "plt.ylabel(\"Cumulative reward\")\n",
    "plt.xlabel(\"Episode\")\n",
    "plt.show()"
   ]
  },
  {
   "attachments": {},
   "cell_type": "markdown",
   "metadata": {},
   "source": [
    "## Task 3 (1 Episode)"
   ]
  },
  {
   "attachments": {},
   "cell_type": "markdown",
   "metadata": {},
   "source": [
    "* Task 3 requires us to render one of the episodes played by our PPO agent"
   ]
  },
  {
   "cell_type": "code",
   "execution_count": 9,
   "metadata": {},
   "outputs": [],
   "source": [
    "from IPython import display as ipythondisplay\n",
    "\n",
    "def show_video():\n",
    "    ipythondisplay.clear_output(wait=True)\n",
    "    mp4list = glob.glob('video/*.mp4')\n",
    "    if len(mp4list) > 0:\n",
    "        mp4 = mp4list[0]\n",
    "        video = io.open(mp4, 'r+b').read()\n",
    "        encoded = base64.b64encode(video)\n",
    "        ipythondisplay.display(HTML(data='''<video alt=\"test\" autoplay \n",
    "                     loop controls style=\"height: 400px;\">\n",
    "                     <source src=\"data:video/mp4;base64,{0}\" type=\"video/mp4\" />\n",
    "                     </video>'''.format(encoded.decode('ascii'))))\n",
    "    else: \n",
    "        print(\"Could not find video\")"
   ]
  },
  {
   "cell_type": "code",
   "execution_count": 10,
   "metadata": {},
   "outputs": [
    {
     "data": {
      "text/html": [
       "<video alt=\"test\" autoplay \n",
       "                     loop controls style=\"height: 400px;\">\n",
       "                     <source src=\"data:video/mp4;base64,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\" type=\"video/mp4\" />\n",
       "                     </video>"
      ],
      "text/plain": [
       "<IPython.core.display.HTML object>"
      ]
     },
     "metadata": {},
     "output_type": "display_data"
    }
   ],
   "source": [
    "env = RecordVideo(gym.make(\"CartPole-v1\"), \"./video\")\n",
    "observation = env.reset()\n",
    "total = 0\n",
    "state = 0\n",
    "while True:\n",
    "    env.render()\n",
    "    action = model.predict(observation)[0]\n",
    "    n_state, reward, done, info = env.step( int(action))      ## apply action \n",
    "    if (abs(n_state[0]) > 2.4 or abs(n_state[2]) > 0.209):\n",
    "        break\n",
    "    if state == 500:\n",
    "        break\n",
    "    observation = n_state \n",
    "    total += reward\n",
    "    state += 1        \n",
    "\n",
    "env.close()\n",
    "show_video()"
   ]
  },
  {
   "cell_type": "code",
   "execution_count": 12,
   "metadata": {},
   "outputs": [
    {
     "name": "stdout",
     "output_type": "stream",
     "text": [
      "Episode reward is  500.0\n"
     ]
    }
   ],
   "source": [
    "print(\"Episode reward is \", total)"
   ]
  }
 ],
 "metadata": {
  "kernelspec": {
   "display_name": "Python 3",
   "language": "python",
   "name": "python3"
  },
  "language_info": {
   "codemirror_mode": {
    "name": "ipython",
    "version": 3
   },
   "file_extension": ".py",
   "mimetype": "text/x-python",
   "name": "python",
   "nbconvert_exporter": "python",
   "pygments_lexer": "ipython3",
   "version": "3.7.0"
  },
  "orig_nbformat": 4,
  "vscode": {
   "interpreter": {
    "hash": "c261aea317cc0286b3b3261fbba9abdec21eaa57589985bb7a274bf54d6cc0a7"
   }
  }
 },
 "nbformat": 4,
 "nbformat_minor": 2
}
